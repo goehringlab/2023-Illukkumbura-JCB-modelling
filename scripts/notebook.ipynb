{
 "cells": [
  {
   "cell_type": "markdown",
   "metadata": {},
   "source": [
    "## PDE model of advection, diffusion and membrane exchange\n",
    "\n",
    "Aiming to investigate the efffects of membrane diffusion and membrane-cytoplasm exchange on segregation efficiency. This notebook shows code for running single simulations with a specified D and koff."
   ]
  },
  {
   "cell_type": "markdown",
   "metadata": {},
   "source": [
    "### Instructions\n",
    "\n",
    "To run all code and open interactive figures, click Cell > Run all. Specify core parameters for the simulations in the cell below. If these parameters are changed, go to Cell > Run All again to re-run the model with the new parameters. Other model parameters are outlined below. "
   ]
  },
  {
   "cell_type": "code",
   "execution_count": 1,
   "metadata": {},
   "outputs": [],
   "source": [
    "D = 0.1 ### <- diffusion coefficient on the membrane (µm^2/s)\n",
    "koff = 0.005 ### <- membrane unbinding rate (/s)"
   ]
  },
  {
   "cell_type": "markdown",
   "metadata": {},
   "source": [
    "### Import packages"
   ]
  },
  {
   "cell_type": "code",
   "execution_count": 2,
   "metadata": {},
   "outputs": [
    {
     "ename": "ModuleNotFoundError",
     "evalue": "No module named 'ode_examples'",
     "output_type": "error",
     "traceback": [
      "\u001b[0;31m---------------------------------------------------------------------------\u001b[0m",
      "\u001b[0;31mModuleNotFoundError\u001b[0m                       Traceback (most recent call last)",
      "Cell \u001b[0;32mIn[2], line 1\u001b[0m\n\u001b[0;32m----> 1\u001b[0m \u001b[38;5;28;01mfrom\u001b[39;00m \u001b[38;5;21;01mpolaritypde\u001b[39;00m \u001b[38;5;28;01mimport\u001b[39;00m pdeRK\n\u001b[1;32m      2\u001b[0m \u001b[38;5;28;01mimport\u001b[39;00m \u001b[38;5;21;01mnumpy\u001b[39;00m \u001b[38;5;28;01mas\u001b[39;00m \u001b[38;5;21;01mnp\u001b[39;00m\n\u001b[1;32m      3\u001b[0m \u001b[38;5;28;01mimport\u001b[39;00m \u001b[38;5;21;01mmatplotlib\u001b[39;00m\u001b[38;5;21;01m.\u001b[39;00m\u001b[38;5;21;01mpyplot\u001b[39;00m \u001b[38;5;28;01mas\u001b[39;00m \u001b[38;5;21;01mplt\u001b[39;00m\n",
      "File \u001b[0;32m~/anaconda3/anaconda3/envs/test/lib/python3.10/site-packages/polaritypde/__init__.py:5\u001b[0m\n\u001b[1;32m      3\u001b[0m \u001b[38;5;28;01mfrom\u001b[39;00m \u001b[38;5;21;01m.\u001b[39;00m\u001b[38;5;21;01mpdeRK\u001b[39;00m \u001b[38;5;28;01mimport\u001b[39;00m \u001b[38;5;241m*\u001b[39m\n\u001b[1;32m      4\u001b[0m \u001b[38;5;28;01mfrom\u001b[39;00m \u001b[38;5;21;01m.\u001b[39;00m\u001b[38;5;21;01mode_examples\u001b[39;00m \u001b[38;5;28;01mimport\u001b[39;00m \u001b[38;5;241m*\u001b[39m\n\u001b[0;32m----> 5\u001b[0m \u001b[38;5;28;01mfrom\u001b[39;00m \u001b[38;5;21;01m.\u001b[39;00m\u001b[38;5;21;01mpde_examples\u001b[39;00m \u001b[38;5;28;01mimport\u001b[39;00m \u001b[38;5;241m*\u001b[39m\n\u001b[1;32m      6\u001b[0m \u001b[38;5;28;01mfrom\u001b[39;00m \u001b[38;5;21;01m.\u001b[39;00m\u001b[38;5;21;01msolve\u001b[39;00m \u001b[38;5;28;01mimport\u001b[39;00m \u001b[38;5;241m*\u001b[39m\n",
      "File \u001b[0;32m~/anaconda3/anaconda3/envs/test/lib/python3.10/site-packages/polaritypde/pde_examples.py:4\u001b[0m\n\u001b[1;32m      2\u001b[0m \u001b[38;5;28;01mfrom\u001b[39;00m \u001b[38;5;21;01m.\u001b[39;00m\u001b[38;5;21;01mpdeRK\u001b[39;00m \u001b[38;5;28;01mimport\u001b[39;00m pdeRK\n\u001b[1;32m      3\u001b[0m \u001b[38;5;28;01mfrom\u001b[39;00m \u001b[38;5;21;01mscipy\u001b[39;00m\u001b[38;5;21;01m.\u001b[39;00m\u001b[38;5;21;01mintegrate\u001b[39;00m \u001b[38;5;28;01mimport\u001b[39;00m odeint\n\u001b[0;32m----> 4\u001b[0m \u001b[38;5;28;01mimport\u001b[39;00m \u001b[38;5;21;01mode_examples\u001b[39;00m \u001b[38;5;28;01mas\u001b[39;00m \u001b[38;5;21;01mode\u001b[39;00m\n\u001b[1;32m      7\u001b[0m \u001b[38;5;28;01mdef\u001b[39;00m \u001b[38;5;21mdiffusion\u001b[39m(concs, dx):\n\u001b[1;32m      8\u001b[0m     concs_ \u001b[38;5;241m=\u001b[39m np\u001b[38;5;241m.\u001b[39mr_[concs[\u001b[38;5;241m0\u001b[39m], concs, concs[\u001b[38;5;241m-\u001b[39m\u001b[38;5;241m1\u001b[39m]]  \u001b[38;5;66;03m# Dirichlet boundary conditions\u001b[39;00m\n",
      "\u001b[0;31mModuleNotFoundError\u001b[0m: No module named 'ode_examples'"
     ]
    }
   ],
   "source": [
    "from polaritypde import pdeRK\n",
    "import numpy as np\n",
    "import matplotlib.pyplot as plt\n",
    "import ipywidgets as widgets\n",
    "%matplotlib notebook"
   ]
  },
  {
   "cell_type": "markdown",
   "metadata": {},
   "source": [
    "### Cortical flow profile\n",
    "\n",
    "We will use the following cortical flow profile in a system 60 µm in length (anterior pole to posterior pole), which is based on measurements of nmy-2 velocity. Positive values reflect movement from the posterior to the anterior."
   ]
  },
  {
   "cell_type": "code",
   "execution_count": null,
   "metadata": {},
   "outputs": [],
   "source": [
    "def generate_flow_profile(A=74, B=391, C=1000, D=100):\n",
    "    X = np.linspace(0, 60, 100)\n",
    "    v = (((60-X) / A) * np.exp(-((60-X) ** 2) / B)) - ((X / C) * np.exp(-(X ** 2) / D))\n",
    "    return v"
   ]
  },
  {
   "cell_type": "code",
   "execution_count": null,
   "metadata": {},
   "outputs": [],
   "source": [
    "fig, ax = plt.subplots()\n",
    "ax.plot(np.linspace(0, 60, 100), generate_flow_profile(), c='0.8', linestyle='--')\n",
    "ax.set_xlabel('Position (x)')\n",
    "ax.set_ylabel('Flow velocity (µm/s)')\n",
    "ax.tick_params(axis='both', labelsize=8)\n",
    "fig.set_size_inches(4, 3)\n",
    "fig.tight_layout()"
   ]
  },
  {
   "cell_type": "markdown",
   "metadata": {},
   "source": [
    "### Building a PDE model\n",
    "\n",
    "To build and solve a PDE model we will use the pdeRK function found in the the pdeRK.py file. This is a versatile PDE solver that can be used to solve any system of PDEs, using an adaptive Runge-Kutta method.\n",
    "\n",
    "```python\n",
    "soln, time, solns, times = pdeRK(dxdt, X0, Tmax, deltat, t_eval, killfunc=None, stabilitycheck=False, maxstep=None, rk=True)\n",
    "```\n",
    "\n",
    "The function takes the following inputs:\n",
    "- dxdt: a function that takes list of 1D arrays (one for each species) corresponding to concentrations over space, and returns a list of gradient arrays\n",
    "- X0: a list specifying the initial state of the system. Will be used as the input to dxdt on the first time step\n",
    "- Tmax: timepoint at which to terminate simulation\n",
    "- deltat: initial timestep (this will be adapted throughout the simulation)\n",
    "- t_eval: a list of timepoints for which to save the state of the system\n",
    "- killfunc: an optional kill function that takes the same input as dxdt. Integration will terminate when this function returns True\n",
    "- stabilitycheck: if True, integration will terminate when the system stabilises (changes by less that 1% per 60 time units). Default is False\n",
    "- maxstep: maximum time step to tolerate\n",
    "- rk: if True, the function will use an adaptive Runge-Kutta method. If False, the function will use a basic Euler method with a constant time step\n",
    "\n",
    "The function returns the following outputs:\n",
    "- soln: final solution \n",
    "- time: final time. Will be close to Tmax but not exact due to finite and adaptable time step\n",
    "- solns: solutions at times specified by t_eval\n",
    "- times: times corresponding to saved states in solns. Will be close to times specified in t_eval but not exact due to finite and adaptable time step"
   ]
  },
  {
   "cell_type": "markdown",
   "metadata": {},
   "source": [
    "The full PDE model is built as a Python class:"
   ]
  },
  {
   "cell_type": "code",
   "execution_count": null,
   "metadata": {},
   "outputs": [],
   "source": [
    "class Model:\n",
    "    def __init__(self, D, kon, koff, psi=0.174, tot=1.56):\n",
    "\n",
    "        # Diffusion\n",
    "        self.D = D # diffusion coefficient\n",
    "\n",
    "        # Flow profile\n",
    "        self.flow_profile = generate_flow_profile()\n",
    "\n",
    "        # Membrane exchange\n",
    "        self.kon = kon # membrane binding rate\n",
    "        self.koff = koff # membrane unbinding rate\n",
    "\n",
    "        # Misc\n",
    "        self.tot = tot # total amount of protein\n",
    "        self.psi = psi # surface area to volume ratio\n",
    "        self.xsteps = 100 # number of positions to split the spatial dimension into\n",
    "        self.L = 60 # system length\n",
    "        self.deltax = self.L / self.xsteps # spatial step\n",
    "\n",
    "    def diffusion(self, concs, dx):\n",
    "        concs_ = np.r_[concs[0], concs, concs[-1]] # Dirichlet boundary conditions\n",
    "        d = concs_[:-2] - 2 * concs_[1:-1] + concs_[2:]\n",
    "        return d / (dx ** 2)\n",
    "\n",
    "    def flow(self, concs, dx):\n",
    "        # Calculates the gradient in both directions and takes the average\n",
    "        return (np.r_[0, np.diff(concs * self.flow_profile)] +\n",
    "                  np.r_[np.diff(concs * self.flow_profile), 0]) / (2 * dx)\n",
    "\n",
    "    def dxdt(self, X):\n",
    "        m = X[0]\n",
    "        c = self.tot - self.psi * np.mean(m) # calculate uniform cytoplasmic concentration\n",
    "        flow = self.flow(m, self.deltax)\n",
    "        dm = (self.kon * c) - (self.koff * m) + (self.D * self.diffusion(m, self.deltax)) + flow\n",
    "        return [dm, ]\n",
    "\n",
    "    def dxdt_no_flow(self, X):\n",
    "        m = X[0]\n",
    "        c = self.tot - self.psi * np.mean(m) # calculate uniform cytoplasmic concentration\n",
    "        dm = (self.kon * c) - (self.koff * m) + (self.D * self.diffusion(m, self.deltax))\n",
    "        return [dm, ]\n",
    "\n",
    "    def run(self, Tmax, t_eval=None, start=None, flow=True, killfunc=None, maxstep=None, rk=True):\n",
    "\n",
    "        # Specify evaluation times\n",
    "        if t_eval is None:\n",
    "            t_eval = np.arange(0, Tmax + 0.0001, Tmax)\n",
    "\n",
    "        # Specify starting conditions\n",
    "        if start is None:\n",
    "            # Start from uniform equilibrium membrane concentration, calculated analytically\n",
    "            start = (self.kon * self.tot) / (self.koff + self.psi * self.kon)\n",
    "            start *= np.ones([self.xsteps])\n",
    "\n",
    "        # Specify flow regime\n",
    "        if flow:\n",
    "            func = self.dxdt\n",
    "        else:\n",
    "            func = self.dxdt_no_flow\n",
    "\n",
    "        # Run simulation\n",
    "        soln, time, solns, times = pdeRK(dxdt=func, X0=[start, ], Tmax=Tmax, deltat=0.01, t_eval=t_eval, \n",
    "                                         killfunc=killfunc, maxstep=maxstep)\n",
    "        # Return results\n",
    "        return soln, time, solns, times"
   ]
  },
  {
   "cell_type": "markdown",
   "metadata": {},
   "source": [
    "### Simulate segregation\n",
    "\n",
    "Starting from a uniform equilibrium state, systems are simulated with the cortical flow profile shown above"
   ]
  },
  {
   "cell_type": "code",
   "execution_count": null,
   "metadata": {},
   "outputs": [],
   "source": [
    "# Build the class\n",
    "m = Model(D=D, koff=koff, kon=koff)\n",
    "\n",
    "# Specify simulation length (in seconds)\n",
    "Tmax_seg = 500 \n",
    "\n",
    "# Run simulation (flow=True)\n",
    "soln_seg, time_seg, solns_seg, times_seg = m.run(Tmax=Tmax_seg, flow=True,\n",
    "                                                 t_eval=np.arange(0, Tmax_seg + 1, 10))"
   ]
  },
  {
   "cell_type": "markdown",
   "metadata": {},
   "source": [
    "#### Interactive figure to view simulation results"
   ]
  },
  {
   "cell_type": "code",
   "execution_count": null,
   "metadata": {},
   "outputs": [],
   "source": [
    "def interactive_fig(solns, times):\n",
    "    fig, ax = plt.subplots()\n",
    "    ymax = 1.1 * np.max(solns[0])\n",
    "    @widgets.interact(Time=(0, times[-1], 10))\n",
    "    def update(Time=0):\n",
    "        ax.clear()\n",
    "        tpoint = np.argmin(abs(times - Time))\n",
    "        ax.plot(np.linspace(0, 60, 100), solns[0][tpoint])\n",
    "        ax.set_ylim(0, ymax)\n",
    "        ax.set_xlabel('Position (x)')\n",
    "        ax.set_ylabel('Membrane concentration')\n",
    "        ax.tick_params(axis='both', labelsize=8)\n",
    "\n",
    "    fig.set_size_inches(4,3)\n",
    "    fig.tight_layout()"
   ]
  },
  {
   "cell_type": "code",
   "execution_count": null,
   "metadata": {},
   "outputs": [],
   "source": [
    "interactive_fig(solns_seg, times_seg)"
   ]
  },
  {
   "cell_type": "markdown",
   "metadata": {},
   "source": [
    "#### Score final asymmetry index (ASI)"
   ]
  },
  {
   "cell_type": "code",
   "execution_count": null,
   "metadata": {},
   "outputs": [],
   "source": [
    "def calc_asi(m):\n",
    "    ant = np.mean(m[:30])\n",
    "    post = np.mean(m[-30:])\n",
    "    asi = abs((ant - post) / (2 * (ant + post)))\n",
    "    return asi"
   ]
  },
  {
   "cell_type": "code",
   "execution_count": null,
   "metadata": {},
   "outputs": [],
   "source": [
    "asi_seg = calc_asi(soln_seg[0])\n",
    "print('ASI = %.3f' % asi_seg)"
   ]
  },
  {
   "cell_type": "markdown",
   "metadata": {},
   "source": [
    "### Simulate relaxation\n",
    "\n",
    "Starting from the final state of the above simulation, flows are switched off and the system is left to relax"
   ]
  },
  {
   "cell_type": "code",
   "execution_count": null,
   "metadata": {},
   "outputs": [],
   "source": [
    "# Specify simulation length (in seconds)\n",
    "Tmax_rel = 1000 \n",
    "\n",
    "# Run simulation (flow=False)\n",
    "soln_rel, time_rel, solns_rel, times_rel = m.run(start=soln_seg[0], flow=False, Tmax=Tmax_rel,\n",
    "                                                t_eval=np.arange(0, Tmax_rel + 1, 10))    "
   ]
  },
  {
   "cell_type": "code",
   "execution_count": null,
   "metadata": {},
   "outputs": [],
   "source": [
    "# Plot simulation\n",
    "interactive_fig(solns_rel, times_rel)"
   ]
  },
  {
   "cell_type": "markdown",
   "metadata": {},
   "source": [
    "### Calculate timescale of relaxation\n",
    "\n",
    "Calculating the time for ASI to decrease to half of its initial value. To do so we will use the killfunc option in the pdeRK function to simulate the system until ASI has decreased by half. We will also set maxstep=0.1 to limit the maximum time step so that times are calculated to the nearest 0.1 second."
   ]
  },
  {
   "cell_type": "code",
   "execution_count": null,
   "metadata": {},
   "outputs": [],
   "source": [
    "# Set up kill function\n",
    "def killfunc(X, asi_thresh=asi_seg * 0.5):\n",
    "    current_asi = calc_asi(X[0])\n",
    "    if current_asi < asi_thresh:\n",
    "        return True\n",
    "    return False\n",
    "\n",
    "# Run simulation (flow=False)\n",
    "_, relaxation_time, _, _  = m.run(Tmax=10000, start=soln_seg[0], flow=False, killfunc=killfunc, maxstep=0.1)\n",
    "\n",
    "# Print relaxation time (seconds)\n",
    "print('Relaxation time = %.1f seconds' % relaxation_time)"
   ]
  }
 ],
 "metadata": {
  "kernelspec": {
   "display_name": "Python 3 (ipykernel)",
   "language": "python",
   "name": "python3"
  },
  "language_info": {
   "codemirror_mode": {
    "name": "ipython",
    "version": 3
   },
   "file_extension": ".py",
   "mimetype": "text/x-python",
   "name": "python",
   "nbconvert_exporter": "python",
   "pygments_lexer": "ipython3",
   "version": "3.10.8"
  }
 },
 "nbformat": 4,
 "nbformat_minor": 4
}
